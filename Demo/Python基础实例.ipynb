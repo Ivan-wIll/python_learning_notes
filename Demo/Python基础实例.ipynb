{
 "cells": [
  {
   "cell_type": "markdown",
   "metadata": {},
   "source": [
    "### Python Hello World 示例\n",
    "    输出\"Hello World\""
   ]
  },
  {
   "cell_type": "code",
   "execution_count": 1,
   "metadata": {},
   "outputs": [
    {
     "name": "stdout",
     "output_type": "stream",
     "text": [
      "Hello World!\n"
     ]
    }
   ],
   "source": [
    "print(\"Hello World!\")"
   ]
  },
  {
   "cell_type": "markdown",
   "metadata": {},
   "source": [
    "### Python数字求和\n",
    "    通过用户输入2个数字,并计算2个数字之和:"
   ]
  },
  {
   "cell_type": "code",
   "execution_count": 10,
   "metadata": {},
   "outputs": [
    {
     "name": "stdout",
     "output_type": "stream",
     "text": [
      "输入第一个数字: 3\n",
      "输入第二个数字: 3\n",
      "数字 3 和数字 3 相加结果为: 6\n"
     ]
    }
   ],
   "source": [
    "num1 = int(input('输入第一个数字: '))\n",
    "num2 = int(input('输入第二个数字: '))\n",
    "\n",
    "sum = num1 + num2\n",
    "print('数字 {} 和数字 {} 相加结果为: {}'.format(num1, num2, sum))"
   ]
  },
  {
   "cell_type": "markdown",
   "metadata": {},
   "source": [
    "### Python平方根\n",
    "\n",
    "输入一个数字, 计算这个数字的平方根:\n"
   ]
  },
  {
   "cell_type": "code",
   "execution_count": 5,
   "metadata": {},
   "outputs": [
    {
     "name": "stdout",
     "output_type": "stream",
     "text": [
      "请输入一个数字: 8\n",
      " 8.000 的平方根为: 2.828\n"
     ]
    }
   ],
   "source": [
    "num = float(input(\"请输入一个数字: \"))\n",
    "num_sqrt = num ** 0.5\n",
    "print(' %0.3f 的平方根为: %0.3f'%(num, num_sqrt))\n",
    "print(' 的平方根为:)\n",
    "      float()"
   ]
  },
  {
   "cell_type": "markdown",
   "metadata": {},
   "source": [
    "### Python 二次方程\n",
    "    计算二次方程"
   ]
  },
  {
   "cell_type": "code",
   "execution_count": 14,
   "metadata": {},
   "outputs": [
    {
     "name": "stdout",
     "output_type": "stream",
     "text": [
      "输入 a: 1\n",
      "输入 b: 5\n",
      "输入 c: 6\n",
      "结果为 (-3+0j) 和 (-2+0j)\n"
     ]
    }
   ],
   "source": [
    "# 二次方程 ax ** 2  + bx + c = 0\n",
    "# a, b, c用户提供, 为实数, a != 0\n",
    "\n",
    "# 导入 cmath(复杂数学运算) 模块\n",
    "import cmath\n",
    "# 输入\n",
    "a = float(input('输入 a: '))\n",
    "b = float(input('输入 b: '))\n",
    "c = float(input('输入 c: '))\n",
    "# 计算\n",
    "d = (b ** 2) - (4 * a * c)\n",
    "res1 = (-b - cmath.sqrt(d))/(2 * a)\n",
    "res2 = (-b + cmath.sqrt(d))/(2 * a)\n",
    "# 输出\n",
    "print(\"结果为 {} 和 {}\".format(res1, res2))\n"
   ]
  },
  {
   "cell_type": "markdown",
   "metadata": {},
   "source": [
    "### Python计算三角形的面积\n",
    "    输入三角形三边的长度, 计算三角形的面积:"
   ]
  },
  {
   "cell_type": "code",
   "execution_count": 15,
   "metadata": {},
   "outputs": [
    {
     "name": "stdout",
     "output_type": "stream",
     "text": [
      "输入三角形第一边长: 3\n",
      "输入三角形第二边长: 4\n",
      "输入三角形第三边长: 5\n",
      "三角形面积为 6.00\n"
     ]
    }
   ],
   "source": [
    "a = float(input('输入三角形第一边长: '))\n",
    "b = float(input('输入三角形第二边长: '))\n",
    "c = float(input('输入三角形第三边长: '))\n",
    " \n",
    "# 计算半周长\n",
    "s = (a + b + c) / 2\n",
    " \n",
    "# 计算面积(海伦公式)\n",
    "area = (s*(s-a)*(s-b)*(s-c)) ** 0.5\n",
    "print('三角形面积为 %0.2f' %area)"
   ]
  },
  {
   "cell_type": "markdown",
   "metadata": {},
   "source": [
    "### Python 计算圆的面积\n",
    "    圆的面积公式: S = PI * r ** 2, r为圆的半径"
   ]
  },
  {
   "cell_type": "code",
   "execution_count": 18,
   "metadata": {},
   "outputs": [
    {
     "name": "stdout",
     "output_type": "stream",
     "text": [
      "圆的面积为 78.500000\n"
     ]
    }
   ],
   "source": [
    "def findArea(r):\n",
    "    \"\"\"计算圆的面积\"\"\"\n",
    "    PI = 3.14\n",
    "    return PI * r ** 2\n",
    "\n",
    "print(\"圆的面积为 %.6f\" % findArea(5))"
   ]
  },
  {
   "cell_type": "markdown",
   "metadata": {},
   "source": [
    "###  Python 生成随机数"
   ]
  },
  {
   "cell_type": "code",
   "execution_count": 19,
   "metadata": {},
   "outputs": [
    {
     "name": "stdout",
     "output_type": "stream",
     "text": [
      "4\n"
     ]
    }
   ],
   "source": [
    "# 生成0 ~ 9 之间的随机数\n",
    "import random\n",
    "\n",
    "print(random.randint(0, 9))"
   ]
  },
  {
   "cell_type": "code",
   "execution_count": 20,
   "metadata": {},
   "outputs": [
    {
     "name": "stdout",
     "output_type": "stream",
     "text": [
      "Help on method randrange in module random:\n",
      "\n",
      "randrange(start, stop=None, step=1, _int=<class 'int'>) method of random.Random instance\n",
      "    Choose a random item from range(start, stop[, step]).\n",
      "    \n",
      "    This fixes the problem with randint() which includes the\n",
      "    endpoint; in Python this is usually not what you want.\n",
      "\n"
     ]
    }
   ],
   "source": [
    "help(random.randrange)"
   ]
  },
  {
   "cell_type": "code",
   "execution_count": 21,
   "metadata": {},
   "outputs": [
    {
     "name": "stdout",
     "output_type": "stream",
     "text": [
      "Help on built-in function random:\n",
      "\n",
      "random(...) method of random.Random instance\n",
      "    random() -> x in the interval [0, 1).\n",
      "\n"
     ]
    }
   ],
   "source": [
    "help(random.random)"
   ]
  },
  {
   "cell_type": "markdown",
   "metadata": {},
   "source": [
    "### Python 摄氏温度转华氏温度    "
   ]
  },
  {
   "cell_type": "code",
   "execution_count": 23,
   "metadata": {},
   "outputs": [
    {
     "name": "stdout",
     "output_type": "stream",
     "text": [
      "输入摄氏温度: 35\n",
      "35.0 摄氏度转化为华氏温度为 95.0 \n"
     ]
    }
   ],
   "source": [
    "# 输入摄氏温度\n",
    "celsius = float(input('输入摄氏温度: '))\n",
    "# 计算华氏温度\n",
    "fahrenheit = (celsius * 1.8) + 32\n",
    "\n",
    "print('%0.1f 摄氏度转化为华氏温度为 %0.1f ' %(celsius, fahrenheit))\n"
   ]
  },
  {
   "cell_type": "markdown",
   "metadata": {},
   "source": [
    "### Python if 语句\n",
    "    通过 if..elif...else 语句判断数字是正数、负数或者零："
   ]
  },
  {
   "cell_type": "code",
   "execution_count": 24,
   "metadata": {},
   "outputs": [
    {
     "name": "stdout",
     "output_type": "stream",
     "text": [
      "输入一个数字: 4\n",
      "正数\n"
     ]
    }
   ],
   "source": [
    "# 用户输入数字\n",
    " \n",
    "num = float(input(\"输入一个数字: \"))\n",
    "if num > 0:\n",
    "   print(\"正数\")\n",
    "elif num == 0:\n",
    "   print(\"零\")\n",
    "else:\n",
    "   print(\"负数\")"
   ]
  },
  {
   "cell_type": "code",
   "execution_count": 25,
   "metadata": {},
   "outputs": [
    {
     "name": "stdout",
     "output_type": "stream",
     "text": [
      "输入一个数字: -10\n",
      "负数\n"
     ]
    }
   ],
   "source": [
    "num = float(input(\"输入一个数字: \"))\n",
    "if num >= 0:\n",
    "   if num == 0:\n",
    "       print(\"零\")\n",
    "   else:\n",
    "       print(\"正数\")\n",
    "else:\n",
    "   print(\"负数\")"
   ]
  },
  {
   "cell_type": "markdown",
   "metadata": {},
   "source": [
    "###  Python 判断字符串是否为数字\n",
    "- Python isdigit() 方法检测字符串是否只由数字组成。\n",
    "- Python isnumeric() 方法检测字符串是否只由数字组成。这种方法是只针对unicode对象。\n",
    "- 以下实例通过创建自定义函数 **is_number()** 方法来判断字符串是否为数字：\n"
   ]
  },
  {
   "cell_type": "code",
   "execution_count": 26,
   "metadata": {},
   "outputs": [
    {
     "name": "stdout",
     "output_type": "stream",
     "text": [
      "False\n",
      "True\n",
      "True\n",
      "True\n",
      "True\n",
      "True\n",
      "True\n",
      "True\n",
      "False\n"
     ]
    }
   ],
   "source": [
    "def is_number(s):\n",
    "    try:\n",
    "        float(s)\n",
    "        return True\n",
    "    except ValueError:\n",
    "        pass\n",
    " \n",
    "    try:\n",
    "        import unicodedata\n",
    "        unicodedata.numeric(s)\n",
    "        return True\n",
    "    except (TypeError, ValueError):\n",
    "        pass\n",
    " \n",
    "    return False\n",
    " \n",
    "# 测试字符串和数字\n",
    "print(is_number('foo'))   # False\n",
    "print(is_number('1'))     # True\n",
    "print(is_number('1.3'))   # True\n",
    "print(is_number('-1.37')) # True\n",
    "print(is_number('1e3'))   # True\n",
    " \n",
    "# 测试 Unicode\n",
    "# 阿拉伯语 5\n",
    "print(is_number('٥'))  # True\n",
    "# 泰语 2\n",
    "print(is_number('๒'))  # True\n",
    "# 中文数字\n",
    "print(is_number('四')) # True\n",
    "# 版权号\n",
    "print(is_number('©'))  # False"
   ]
  },
  {
   "cell_type": "markdown",
   "metadata": {},
   "source": [
    "### Python判断奇偶数\n"
   ]
  },
  {
   "cell_type": "code",
   "execution_count": 27,
   "metadata": {},
   "outputs": [
    {
     "name": "stdout",
     "output_type": "stream",
     "text": [
      "输入一个整数: 3\n",
      "3 是奇数\n"
     ]
    }
   ],
   "source": [
    "num = int(input('输入一个整数: '))\n",
    "if num % 2 == 0:\n",
    "    print('{} 是偶数'.format(num))\n",
    "else:\n",
    "    print('{} 是奇数'.format(num))"
   ]
  },
  {
   "cell_type": "markdown",
   "metadata": {},
   "source": [
    "### Python 判断闰年"
   ]
  },
  {
   "cell_type": "code",
   "execution_count": 28,
   "metadata": {},
   "outputs": [
    {
     "name": "stdout",
     "output_type": "stream",
     "text": [
      "输入一个年份: 2020\n",
      "2020 是闰年\n"
     ]
    }
   ],
   "source": [
    "year = int(input(\"输入一个年份: \"))\n",
    "if (year % 4) == 0:\n",
    "   if (year % 100) == 0:\n",
    "       if (year % 400) == 0:\n",
    "           print(\"{0} 是闰年\".format(year))   # 整百年能被400整除的是闰年\n",
    "       else:\n",
    "           print(\"{0} 不是闰年\".format(year))\n",
    "   else:\n",
    "       print(\"{0} 是闰年\".format(year))       # 非整百年能被4整除的为闰年\n",
    "else:\n",
    "   print(\"{0} 不是闰年\".format(year))"
   ]
  },
  {
   "cell_type": "markdown",
   "metadata": {},
   "source": [
    "### Python 质数判断\n",
    "    一个大于1的自然数，除了1和它本身外，不能被其他自然数（质数）整除（2, 3, 5, 7等），换句话说就是该数除了1和它本身以外不再有其他的因数。"
   ]
  },
  {
   "cell_type": "code",
   "execution_count": 30,
   "metadata": {},
   "outputs": [
    {
     "name": "stdout",
     "output_type": "stream",
     "text": [
      "请输入一个数字: 4\n",
      "4 不是质数\n",
      "2 乘于 2 是 4\n"
     ]
    }
   ],
   "source": [
    "# Python 程序用于检测用户输入的数字是否为质数\n",
    " \n",
    "# 用户输入数字\n",
    "num = int(input(\"请输入一个数字: \"))\n",
    " \n",
    "# 质数大于 1\n",
    "if num > 1:\n",
    "   # 查看因子\n",
    "   for i in range(2,num):\n",
    "       if (num % i) == 0:\n",
    "           print(num,\"不是质数\")\n",
    "           print(i, \"乘于\", num//i, \"是\", num)\n",
    "           break\n",
    "   else:\n",
    "       print(num,\"是质数\")\n",
    "       \n",
    "# 如果输入的数字小于或等于 1，不是质数\n",
    "else:\n",
    "   print(num,\"不是质数\")"
   ]
  },
  {
   "cell_type": "markdown",
   "metadata": {},
   "source": [
    "### Python 回文数和素数\n",
    "    找出1000以内既是素数又是回文数的数\n",
    "- 定义\n",
    "    - 素数(质数): 是指在大于1的自然数中，除了1和它本身以外不再有其他因数的自然数。\n",
    "    - 设n是一任意自然数。若将n的各位数字反向排列所得自然数n1与n相等，则称n为一回文数。例如，若n=1234321，则称n为一回文数；但若n=1234567，则n不是回文数。"
   ]
  },
  {
   "cell_type": "code",
   "execution_count": 32,
   "metadata": {},
   "outputs": [
    {
     "name": "stdout",
     "output_type": "stream",
     "text": [
      "1000 以内的素数有 168 个，分别是： [2, 3, 5, 7, 11, 13, 17, 19, 23, 29, 31, 37, 41, 43, 47, 53, 59, 61, 67, 71, 73, 79, 83, 89, 97, 101, 103, 107, 109, 113, 127, 131, 137, 139, 149, 151, 157, 163, 167, 173, 179, 181, 191, 193, 197, 199, 211, 223, 227, 229, 233, 239, 241, 251, 257, 263, 269, 271, 277, 281, 283, 293, 307, 311, 313, 317, 331, 337, 347, 349, 353, 359, 367, 373, 379, 383, 389, 397, 401, 409, 419, 421, 431, 433, 439, 443, 449, 457, 461, 463, 467, 479, 487, 491, 499, 503, 509, 521, 523, 541, 547, 557, 563, 569, 571, 577, 587, 593, 599, 601, 607, 613, 617, 619, 631, 641, 643, 647, 653, 659, 661, 673, 677, 683, 691, 701, 709, 719, 727, 733, 739, 743, 751, 757, 761, 769, 773, 787, 797, 809, 811, 821, 823, 827, 829, 839, 853, 857, 859, 863, 877, 881, 883, 887, 907, 911, 919, 929, 937, 941, 947, 953, 967, 971, 977, 983, 991, 997]\n"
     ]
    }
   ],
   "source": [
    "# 求解1000以内的所有素数\n",
    "import math\n",
    "\n",
    "num = 2\n",
    "count = 0  # 计数\n",
    "list_s = []\n",
    "max_d = 1000\n",
    "while num < max_d:\n",
    "    length = int(math.sqrt(num)+1)  # 对遍历范围进行合理优化\n",
    "    for i in range(2,length):  # 注意从2开始\n",
    "        if num % i == 0:\n",
    "            break\n",
    "    else:  # 这里的else跟for对齐,但for循环顺利执行,else才执行\n",
    "        count += 1\n",
    "        list_s.append(num)  # 存入列表\n",
    "    num += 1\n",
    "if count == 0:\n",
    "    print(max_d,'以内没有素数')\n",
    "else:\n",
    "    print(max_d,'以内的素数有',count,'个，分别是：',list_s)"
   ]
  },
  {
   "cell_type": "code",
   "execution_count": 33,
   "metadata": {},
   "outputs": [
    {
     "name": "stdout",
     "output_type": "stream",
     "text": [
      "10000 以内的回文数有 199 个，分别是： [0, 1, 2, 3, 4, 5, 6, 7, 8, 9, 11, 22, 33, 44, 55, 66, 77, 88, 99, 101, 111, 121, 131, 141, 151, 161, 171, 181, 191, 202, 212, 222, 232, 242, 252, 262, 272, 282, 292, 303, 313, 323, 333, 343, 353, 363, 373, 383, 393, 404, 414, 424, 434, 444, 454, 464, 474, 484, 494, 505, 515, 525, 535, 545, 555, 565, 575, 585, 595, 606, 616, 626, 636, 646, 656, 666, 676, 686, 696, 707, 717, 727, 737, 747, 757, 767, 777, 787, 797, 808, 818, 828, 838, 848, 858, 868, 878, 888, 898, 909, 919, 929, 939, 949, 959, 969, 979, 989, 999, 1001, 1111, 1221, 1331, 1441, 1551, 1661, 1771, 1881, 1991, 2002, 2112, 2222, 2332, 2442, 2552, 2662, 2772, 2882, 2992, 3003, 3113, 3223, 3333, 3443, 3553, 3663, 3773, 3883, 3993, 4004, 4114, 4224, 4334, 4444, 4554, 4664, 4774, 4884, 4994, 5005, 5115, 5225, 5335, 5445, 5555, 5665, 5775, 5885, 5995, 6006, 6116, 6226, 6336, 6446, 6556, 6666, 6776, 6886, 6996, 7007, 7117, 7227, 7337, 7447, 7557, 7667, 7777, 7887, 7997, 8008, 8118, 8228, 8338, 8448, 8558, 8668, 8778, 8888, 8998, 9009, 9119, 9229, 9339, 9449, 9559, 9669, 9779, 9889, 9999]\n"
     ]
    }
   ],
   "source": [
    "# 求解1000以内的所有回文数\n",
    "\n",
    "# 方法一\n",
    "num = 0  # 这里num从0开始\n",
    "list_h = []\n",
    "max_d = 10000\n",
    "count = 0 \n",
    "\n",
    "while num < max_d:\n",
    "    tmp = num\n",
    "    num_p = 0\n",
    "    while tmp != 0:\n",
    "        num_p = num_p*10 + tmp % 10\n",
    "        tmp //= 10\n",
    "    if num_p == num:\n",
    "        list_h.append(num)\n",
    "        count += 1\n",
    "    num += 1\n",
    "        \n",
    "if count == 0:\n",
    "    print(max_d, '以内没有回文数')\n",
    "else:\n",
    "    print(max_d, '以内的回文数有', count, '个，分别是：', list_h)"
   ]
  },
  {
   "cell_type": "code",
   "execution_count": 35,
   "metadata": {},
   "outputs": [
    {
     "name": "stdout",
     "output_type": "stream",
     "text": [
      "10000 以内的回文数有 199 个，分别是： [0, 1, 2, 3, 4, 5, 6, 7, 8, 9, 11, 22, 33, 44, 55, 66, 77, 88, 99, 101, 111, 121, 131, 141, 151, 161, 171, 181, 191, 202, 212, 222, 232, 242, 252, 262, 272, 282, 292, 303, 313, 323, 333, 343, 353, 363, 373, 383, 393, 404, 414, 424, 434, 444, 454, 464, 474, 484, 494, 505, 515, 525, 535, 545, 555, 565, 575, 585, 595, 606, 616, 626, 636, 646, 656, 666, 676, 686, 696, 707, 717, 727, 737, 747, 757, 767, 777, 787, 797, 808, 818, 828, 838, 848, 858, 868, 878, 888, 898, 909, 919, 929, 939, 949, 959, 969, 979, 989, 999, 1001, 1111, 1221, 1331, 1441, 1551, 1661, 1771, 1881, 1991, 2002, 2112, 2222, 2332, 2442, 2552, 2662, 2772, 2882, 2992, 3003, 3113, 3223, 3333, 3443, 3553, 3663, 3773, 3883, 3993, 4004, 4114, 4224, 4334, 4444, 4554, 4664, 4774, 4884, 4994, 5005, 5115, 5225, 5335, 5445, 5555, 5665, 5775, 5885, 5995, 6006, 6116, 6226, 6336, 6446, 6556, 6666, 6776, 6886, 6996, 7007, 7117, 7227, 7337, 7447, 7557, 7667, 7777, 7887, 7997, 8008, 8118, 8228, 8338, 8448, 8558, 8668, 8778, 8888, 8998, 9009, 9119, 9229, 9339, 9449, 9559, 9669, 9779, 9889, 9999]\n"
     ]
    }
   ],
   "source": [
    "# 方法二\n",
    "# 采用双端队列的数据结构\n",
    "from collections import deque\n",
    "\n",
    "def palindrome(word):\n",
    "    dq = deque(word)\n",
    "    \n",
    "    while len(dq) > 1:\n",
    "        if dq.pop() != dq.popleft():\n",
    "            return False\n",
    "    return True\n",
    "\n",
    "\n",
    "if __name__ == '__main__':\n",
    "    max_num = 10000\n",
    "    list_h = []\n",
    "    count = 0\n",
    "    \n",
    "    for i in range(max_num):\n",
    "        s = str(i)\n",
    "        if palindrome(s):\n",
    "            list_h.append(i)\n",
    "            count += 1\n",
    "\n",
    "    if count == 0:\n",
    "        print(max_d, '以内没有回文数')\n",
    "    else:\n",
    "        print(max_d, '以内的回文数有', count, '个，分别是：', list_h)"
   ]
  },
  {
   "cell_type": "markdown",
   "metadata": {},
   "source": [
    "* 同时判断回文数和质数"
   ]
  },
  {
   "cell_type": "code",
   "execution_count": 36,
   "metadata": {},
   "outputs": [
    {
     "name": "stdout",
     "output_type": "stream",
     "text": [
      "1000 以内既是素数又是回文数的数有 20 个，分别是： [2, 3, 5, 7, 11, 101, 131, 151, 181, 191, 313, 353, 373, 383, 727, 757, 787, 797, 919, 929]\n"
     ]
    }
   ],
   "source": [
    "# 方法一、求1000以内的回文素数,\n",
    "# 多层循环嵌套,先判断是否素数,后判断是否为回文数, 把既是素数也是回文数的放入列表\n",
    "import math\n",
    "\n",
    "num = 2\n",
    "count = 0\n",
    "list_sh = []\n",
    "max_d = 1000\n",
    "\n",
    "while num < max_d:\n",
    "    length = int(math.sqrt(num) + 1)\n",
    "    for i in range(2, length):\n",
    "        if num % i == 0:\n",
    "            break\n",
    "    else:\n",
    "        tmp = num\n",
    "        num_p = 0\n",
    "        \n",
    "        while tmp != 0:\n",
    "            num_p = num_p * 10 + tmp % 10\n",
    "            tmp //= 10\n",
    "        if num == num_p:\n",
    "            list_sh.append(num)\n",
    "            count +=1\n",
    "    num += 1\n",
    "\n",
    "if count == 0:\n",
    "    print(max_d,'以内没有既是素数又是回文数的数')\n",
    "else:\n",
    "    print(max_d,'以内既是素数又是回文数的数有',count,'个，分别是：',list_sh)"
   ]
  },
  {
   "cell_type": "code",
   "execution_count": 37,
   "metadata": {},
   "outputs": [
    {
     "name": "stdout",
     "output_type": "stream",
     "text": [
      "1000 以内既是素数又是回文数的数有 20 个，分别是： [2, 3, 5, 7, 11, 101, 131, 151, 181, 191, 313, 353, 373, 383, 727, 757, 787, 797, 919, 929]\n"
     ]
    }
   ],
   "source": [
    "# 方案二: 先求出素数列表, 再遍历素数列表,求出其中的回文数\n",
    "import math\n",
    "\n",
    "num = 2\n",
    "list_s = []\n",
    "count = 0\n",
    "list_sh = []\n",
    "max_d = 1000\n",
    "\n",
    "while num < max_d:\n",
    "    length = int(math.sqrt(num)+1)\n",
    "    for i in range(2,length):\n",
    "        if num % i == 0:\n",
    "            break\n",
    "    else: # 注意这里的else是和for对齐\n",
    "        list_s.append(num)\n",
    "    num += 1\n",
    "\n",
    "for i in list_s:\n",
    "    tmp = i\n",
    "    num_p = 0\n",
    "    while tmp != 0:\n",
    "        num_p = num_p*10 + tmp % 10\n",
    "        tmp //= 10\n",
    "    if num_p == i:\n",
    "        list_sh.append(i)\n",
    "        count += 1\n",
    "        \n",
    "if count == 0:\n",
    "    print(max_d,'以内没有既是素数又是回文数的数')\n",
    "else:\n",
    "    print(max_d,'以内既是素数又是回文数的数有',count,'个，分别是：',list_sh)"
   ]
  },
  {
   "cell_type": "markdown",
   "metadata": {},
   "source": [
    "### Python 阶乘实例\n",
    "    整数的阶乘（英语：factorial）是所有小于及等于该数的正整数的积，0的阶乘为1。即：n!=1×2×3×...×n。"
   ]
  },
  {
   "cell_type": "code",
   "execution_count": 42,
   "metadata": {},
   "outputs": [
    {
     "name": "stdout",
     "output_type": "stream",
     "text": [
      "请输入一个整数: 6\n",
      "6 的阶乘为 720\n"
     ]
    }
   ],
   "source": [
    "# 方法一: for循环\n",
    "n = int(input('请输入一个整数: '))\n",
    "factorial = 1\n",
    "\n",
    "if n < 0:\n",
    "    print(\"抱歉，负数没有阶乘\")\n",
    "elif n == 0:\n",
    "    print(\"0 的阶乘为 1\")\n",
    "else:\n",
    "    for i in range(1,  n + 1):\n",
    "        factorial  *= i\n",
    "\n",
    "    print('{} 的阶乘为 {}'.format(n, factorial))"
   ]
  },
  {
   "cell_type": "code",
   "execution_count": 2,
   "metadata": {},
   "outputs": [
    {
     "name": "stdout",
     "output_type": "stream",
     "text": [
      "请输入一个整数:5\n",
      "5 的阶乘为 120\n"
     ]
    }
   ],
   "source": [
    "# 方法二: reduce()函数\n",
    "from functools import reduce\n",
    "\n",
    "n = int(input(\"请输入一个整数:\"))\n",
    "\n",
    "if n < 0:\n",
    "    print(\"抱歉，负数没有阶乘\")\n",
    "elif n == 0:\n",
    "    print(\"0 的阶乘为 1\")\n",
    "else:\n",
    "    # 使用lambda, 匿名函数,迭代\n",
    "    factorial = reduce(lambda x, y: x * y, range(1, n + 1))\n",
    "    print('{} 的阶乘为 {}'.format(n, factorial))"
   ]
  },
  {
   "cell_type": "code",
   "execution_count": 6,
   "metadata": {},
   "outputs": [
    {
     "name": "stdout",
     "output_type": "stream",
     "text": [
      "3628800\n"
     ]
    }
   ],
   "source": [
    "# 方法三:  math模块factorial()函数\n",
    "import math\n",
    "value = math.factorial(10)\n",
    "print(value)"
   ]
  },
  {
   "cell_type": "code",
   "execution_count": 18,
   "metadata": {},
   "outputs": [
    {
     "name": "stdout",
     "output_type": "stream",
     "text": [
      "720\n"
     ]
    }
   ],
   "source": [
    "# 方法四: 递归\n",
    "def num(n):\n",
    "    if n < 0:\n",
    "        raise ValueError('参数为负')\n",
    "    if n == 0:\n",
    "        return 1\n",
    "    else:\n",
    "        return n * num(n - 1)\n",
    "\n",
    "print(num(6))"
   ]
  },
  {
   "cell_type": "markdown",
   "metadata": {},
   "source": [
    "### Python 九九乘法表"
   ]
  },
  {
   "cell_type": "code",
   "execution_count": 27,
   "metadata": {},
   "outputs": [
    {
     "name": "stdout",
     "output_type": "stream",
     "text": [
      "1 X 1 =  1  \n",
      "2 X 1 =  2  2 X 2 =  4  \n",
      "3 X 1 =  3  3 X 2 =  6  3 X 3 =  9  \n",
      "4 X 1 =  4  4 X 2 =  8  4 X 3 = 12  4 X 4 = 16  \n",
      "5 X 1 =  5  5 X 2 = 10  5 X 3 = 15  5 X 4 = 20  5 X 5 = 25  \n",
      "6 X 1 =  6  6 X 2 = 12  6 X 3 = 18  6 X 4 = 24  6 X 5 = 30  6 X 6 = 36  \n",
      "7 X 1 =  7  7 X 2 = 14  7 X 3 = 21  7 X 4 = 28  7 X 5 = 35  7 X 6 = 42  7 X 7 = 49  \n",
      "8 X 1 =  8  8 X 2 = 16  8 X 3 = 24  8 X 4 = 32  8 X 5 = 40  8 X 6 = 48  8 X 7 = 56  8 X 8 = 64  \n",
      "9 X 1 =  9  9 X 2 = 18  9 X 3 = 27  9 X 4 = 36  9 X 5 = 45  9 X 6 = 54  9 X 7 = 63  9 X 8 = 72  9 X 9 = 81  \n"
     ]
    }
   ],
   "source": [
    "# 方法一:\n",
    "for m in  range(1, 10):\n",
    "    for n in range(1, m + 1):\n",
    "        product = m * n\n",
    "        print(\"%d X %d = %2d\"%(m, n, product), end='  ')\n",
    "    print()"
   ]
  },
  {
   "cell_type": "code",
   "execution_count": 38,
   "metadata": {},
   "outputs": [
    {
     "name": "stdout",
     "output_type": "stream",
     "text": [
      "                                                                                                                1X1= 1  \n",
      "                                                                                                  1X2= 2  2X2= 4  \n",
      "                                                                                    1X3= 3  2X3= 6  3X3= 9  \n",
      "                                                                      1X4= 4  2X4= 8  3X4=12  4X4=16  \n",
      "                                                        1X5= 5  2X5=10  3X5=15  4X5=20  5X5=25  \n",
      "                                          1X6= 6  2X6=12  3X6=18  4X6=24  5X6=30  6X6=36  \n",
      "                            1X7= 7  2X7=14  3X7=21  4X7=28  5X7=35  6X7=42  7X7=49  \n",
      "              1X8= 8  2X8=16  3X8=24  4X8=32  5X8=40  6X8=48  7X8=56  8X8=64  \n",
      "1X9= 9  2X9=18  3X9=27  4X9=36  5X9=45  6X9=54  7X9=63  8X9=72  9X9=81  \n"
     ]
    }
   ],
   "source": [
    "#方式二：通过【while】方式实现\n",
    "i=1\n",
    "while i<10:\n",
    "    k=1\n",
    "    while k<10-i:\n",
    "        print(end='              ')\n",
    "        k+=1\n",
    "    j = 1\n",
    "    while j<=i:\n",
    "        print(\"%dX%d=%2d\"%(j,i,j*i),end='  ')\n",
    "        j+=1\n",
    "    print(\"\")\n",
    "    i+=1"
   ]
  },
  {
   "cell_type": "markdown",
   "metadata": {},
   "source": [
    "### Python斐波那契数列\n",
    "    斐波那契数列指的是这样一个数列 0, 1, 1, 2, 3, 5, 8, 13,特别指出：第0项是0，第1项是第一个1。从第三项开始，每一项都等于前两项之和。"
   ]
  },
  {
   "cell_type": "code",
   "execution_count": 42,
   "metadata": {},
   "outputs": [
    {
     "name": "stdout",
     "output_type": "stream",
     "text": [
      "0 , 1 , 1 , 2 , 3 , 5 , "
     ]
    }
   ],
   "source": [
    "def f(n):\n",
    "    x = 0\n",
    "    y = 1\n",
    "    count = 1\n",
    "    if n <= 0:\n",
    "        print('请输入一个正整数')\n",
    "    elif n == count:\n",
    "        print(x)\n",
    "    else:\n",
    "        print(x, ',', y, end=' , ')\n",
    "        while n != count:\n",
    "            f = x + y\n",
    "            print(f, end=' , ')\n",
    "            x = y\n",
    "            y = f\n",
    "            count += 1\n",
    "\n",
    "            \n",
    "f(5)"
   ]
  },
  {
   "cell_type": "code",
   "execution_count": 6,
   "metadata": {},
   "outputs": [
    {
     "data": {
      "text/plain": [
       "514229"
      ]
     },
     "execution_count": 6,
     "metadata": {},
     "output_type": "execute_result"
    }
   ],
   "source": [
    "# 方法二: 递归\n",
    "def f(n):\n",
    "    '''斐波那契数列第n项的值'''\n",
    "    if n <= 0:\n",
    "        raise ValueError('请传入一个正整数参数')\n",
    "    if n == 1:\n",
    "        return 0\n",
    "    if n == 2:\n",
    "        return 1\n",
    "    else:\n",
    "        return f(n-1) + f(n-2)\n",
    "\n",
    "f(30)"
   ]
  },
  {
   "cell_type": "markdown",
   "metadata": {},
   "source": [
    "### Python 十进制转二进制、八进制、十六进制"
   ]
  },
  {
   "cell_type": "code",
   "execution_count": 7,
   "metadata": {},
   "outputs": [
    {
     "name": "stdout",
     "output_type": "stream",
     "text": [
      "0b1010\n",
      "0o12\n",
      "0xa\n"
     ]
    }
   ],
   "source": [
    "# 十进制数\n",
    "dec = 10\n",
    "# 转为二进制:\n",
    "print(bin(dec))\n",
    "# 转为八进制\n",
    "print(oct(dec))\n",
    "# 转为十六进制:\n",
    "print(hex(dec))"
   ]
  },
  {
   "cell_type": "markdown",
   "metadata": {},
   "source": [
    "### Python 最大公约数与最大公倍数"
   ]
  },
  {
   "cell_type": "code",
   "execution_count": 4,
   "metadata": {},
   "outputs": [
    {
     "name": "stdout",
     "output_type": "stream",
     "text": [
      "5\n",
      "15\n"
     ]
    }
   ],
   "source": [
    "def hcf(x, y):\n",
    "    \"\"\"该函数返回两个数的最大公约数\"\"\"\n",
    " \n",
    "    # 获取最小值\n",
    "    if x > y:\n",
    "        min_num = y\n",
    "    else:\n",
    "        min_num = x\n",
    " \n",
    "    for i in range(1, min_num + 1):\n",
    "        if((x % i == 0) and (y % i == 0)):\n",
    "            hcf = i\n",
    " \n",
    "    return hcf\n",
    "\n",
    "\n",
    "def lcm(x, y):\n",
    "    \"\"\"返回x , y的最小公倍数\"\"\"\n",
    "    #  获取最大的数\n",
    "    if x > y:\n",
    "        greater = x\n",
    "    else:\n",
    "        greater = y\n",
    " \n",
    "    while(True):\n",
    "        if((greater % x == 0) and (greater % y == 0)):\n",
    "            lcm = greater\n",
    "            break\n",
    "        greater += 1\n",
    " \n",
    "    return lcm\n",
    "\n",
    "\n",
    "print(hcf(30, 25))\n",
    "print(lcm(3, 5))"
   ]
  },
  {
   "cell_type": "markdown",
   "metadata": {},
   "source": [
    "### Python 约瑟夫生者死者小游戏\n",
    "    30 个人在一条船上，超载，需要 15 人下船。\n",
    "    于是人们排成一队，排队的位置即为他们的编号。\n",
    "    报数，从 1 开始，数到 9 的人下船。\n",
    "    如此循环，直到船上仅剩 15 人为止，问都有哪些编号的人下船了呢？"
   ]
  },
  {
   "cell_type": "code",
   "execution_count": 5,
   "metadata": {},
   "outputs": [
    {
     "name": "stdout",
     "output_type": "stream",
     "text": [
      "9号下船了\n",
      "18号下船了\n",
      "27号下船了\n",
      "6号下船了\n",
      "16号下船了\n",
      "26号下船了\n",
      "7号下船了\n",
      "19号下船了\n",
      "30号下船了\n",
      "12号下船了\n",
      "24号下船了\n",
      "8号下船了\n",
      "22号下船了\n",
      "5号下船了\n",
      "23号下船了\n"
     ]
    }
   ],
   "source": [
    "people={}\n",
    "for x in range(1,31):\n",
    "    people[x]=1\n",
    "# print(people)\n",
    "check=0\n",
    "i=1\n",
    "j=0\n",
    "while i<=31:\n",
    "    if i == 31:\n",
    "        i=1\n",
    "    elif j == 15:\n",
    "        break\n",
    "    else:\n",
    "        if people[i] == 0:\n",
    "            i+=1\n",
    "            continue\n",
    "        else:\n",
    "            check+=1\n",
    "            if check == 9:\n",
    "                people[i]=0\n",
    "                check = 0\n",
    "                print(\"{}号下船了\".format(i))\n",
    "                j+=1\n",
    "            else:\n",
    "                i+=1\n",
    "                continue"
   ]
  },
  {
   "cell_type": "code",
   "execution_count": null,
   "metadata": {},
   "outputs": [],
   "source": []
  },
  {
   "cell_type": "code",
   "execution_count": null,
   "metadata": {},
   "outputs": [],
   "source": []
  },
  {
   "cell_type": "code",
   "execution_count": null,
   "metadata": {},
   "outputs": [],
   "source": []
  }
 ],
 "metadata": {
  "kernelspec": {
   "display_name": "Python 3",
   "language": "python",
   "name": "python3"
  },
  "language_info": {
   "codemirror_mode": {
    "name": "ipython",
    "version": 3
   },
   "file_extension": ".py",
   "mimetype": "text/x-python",
   "name": "python",
   "nbconvert_exporter": "python",
   "pygments_lexer": "ipython3",
   "version": "3.7.6"
  },
  "toc": {
   "base_numbering": 1,
   "nav_menu": {},
   "number_sections": true,
   "sideBar": true,
   "skip_h1_title": false,
   "title_cell": "Table of Contents",
   "title_sidebar": "Contents",
   "toc_cell": false,
   "toc_position": {
    "height": "calc(100% - 180px)",
    "left": "10px",
    "top": "150px",
    "width": "165px"
   },
   "toc_section_display": true,
   "toc_window_display": false
  }
 },
 "nbformat": 4,
 "nbformat_minor": 4
}
